{
 "cells": [
  {
   "cell_type": "code",
   "execution_count": null,
   "id": "8d362753",
   "metadata": {},
   "outputs": [],
   "source": [
    "## https://www.kaggle.com/code/mohamedharris/how-to-classify-penguins-a-beginner-s-guide\n",
    "## https://www.youtube.com/watch?v=Eai1jaZrRDs\n",
    "## https://www.youtube.com/watch?v=euGEsJj-oI4\n",
    "\n",
    "## https://www.kaggle.com/code/johntrunix/clustering-type-of-penguin-unsupervised-learning -- \n",
    "# https://github.com/YoussefAboelwafa/Clustering-Penguins-Species/blob/main/notebook.ipynb"
   ]
  },
  {
   "cell_type": "code",
   "execution_count": null,
   "id": "a4d81121",
   "metadata": {},
   "outputs": [],
   "source": []
  },
  {
   "cell_type": "code",
   "execution_count": null,
   "id": "357f7046",
   "metadata": {},
   "outputs": [],
   "source": []
  },
  {
   "cell_type": "code",
   "execution_count": null,
   "id": "25c9374e",
   "metadata": {},
   "outputs": [],
   "source": [
    "## predicting penguin type \n",
    "## sex"
   ]
  },
  {
   "cell_type": "code",
   "execution_count": null,
   "id": "23366737",
   "metadata": {},
   "outputs": [],
   "source": []
  },
  {
   "cell_type": "code",
   "execution_count": 30,
   "id": "dc8c23ab",
   "metadata": {},
   "outputs": [
    {
     "name": "stdout",
     "output_type": "stream",
     "text": [
      "Shape of X_train: (275, 10)\n",
      "Shape of X_test: (69, 10)\n",
      "Shape of y_train: (275,)\n",
      "Shape of y_test: (69,)\n"
     ]
    }
   ],
   "source": [
    "# Step 1: Separate the target variable from predictor variables\n",
    "X = data.drop(columns=['species'])  # Predictor variables (features)\n",
    "y = data['species']  # Target variable\n",
    "\n",
    "# Step 2: Handle categorical variables using one-hot encoding\n",
    "X_encoded = pd.get_dummies(X)\n",
    "\n",
    "# Step 3: Split the dataset into training and testing sets\n",
    "from sklearn.model_selection import train_test_split\n",
    "\n",
    "X_train, X_test, y_train, y_test = train_test_split(X_encoded, y, test_size=0.2, random_state=42)\n",
    "\n",
    "# Print the shapes of the training and testing sets\n",
    "print(\"Shape of X_train:\", X_train.shape)\n",
    "print(\"Shape of X_test:\", X_test.shape)\n",
    "print(\"Shape of y_train:\", y_train.shape)\n",
    "print(\"Shape of y_test:\", y_test.shape)"
   ]
  },
  {
   "cell_type": "code",
   "execution_count": 33,
   "id": "02e9b462",
   "metadata": {},
   "outputs": [
    {
     "name": "stdout",
     "output_type": "stream",
     "text": [
      "Counts of female and male penguins separated by island:\n",
      "sex        female  male\n",
      "island                 \n",
      "Biscoe         80    88\n",
      "Dream          61    63\n",
      "Torgersen      24    28\n"
     ]
    }
   ],
   "source": [
    "# Group the data by 'island' and 'sex' and count the occurrences\n",
    "counts = data.groupby(['island', 'sex']).size().unstack()\n",
    "\n",
    "# Print the counts\n",
    "print(\"Counts of female and male penguins separated by island:\")\n",
    "print(counts)"
   ]
  },
  {
   "cell_type": "code",
   "execution_count": 34,
   "id": "d1c183a6",
   "metadata": {},
   "outputs": [
    {
     "name": "stdout",
     "output_type": "stream",
     "text": [
      "Female penguins counts:\n",
      "island     bill_length_mm  bill_depth_mm  flipper_length_mm  body_mass_g\n",
      "Biscoe     34.5            18.1           187.0              2900.0         1\n",
      "           35.0            17.9           190.0              3450.0         1\n",
      "                                          192.0              3725.0         1\n",
      "           35.3            18.9           187.0              3800.0         1\n",
      "           35.5            16.2           195.0              3350.0         1\n",
      "                                                                           ..\n",
      "Torgersen  39.6            17.2           196.0              3550.0         1\n",
      "           40.2            17.0           176.0              3450.0         1\n",
      "           40.3            18.0           195.0              3250.0         1\n",
      "           40.9            16.8           191.0              3700.0         1\n",
      "           41.1            17.6           182.0              3200.0         1\n",
      "Length: 165, dtype: int64\n",
      "\n",
      "Male penguins counts:\n",
      "island     bill_length_mm  bill_depth_mm  flipper_length_mm  body_mass_g\n",
      "Biscoe     37.6            19.1           194.0              3750.0         1\n",
      "           37.7            18.7           180.0              3600.0         1\n",
      "           37.8            20.0           190.0              4250.0         1\n",
      "           38.2            18.1           185.0              3950.0         1\n",
      "                           20.0           190.0              3900.0         1\n",
      "                                                                           ..\n",
      "Torgersen  42.9            17.6           196.0              4700.0         1\n",
      "           43.1            19.2           197.0              3500.0         1\n",
      "           44.1            18.0           210.0              4000.0         1\n",
      "           45.8            18.9           197.0              4150.0         1\n",
      "           46.0            21.5           194.0              4200.0         1\n",
      "Length: 179, dtype: int64\n"
     ]
    }
   ],
   "source": [
    "# Group the data by 'sex' and other relevant columns and count the occurrences\n",
    "gender_counts = data.groupby(['sex', 'island', 'bill_length_mm', 'bill_depth_mm', 'flipper_length_mm', 'body_mass_g']).size()\n",
    "\n",
    "# Print the counts for female and male penguins separately\n",
    "female_counts = gender_counts.loc['female']\n",
    "male_counts = gender_counts.loc['male']\n",
    "\n",
    "print(\"Female penguins counts:\")\n",
    "print(female_counts)\n",
    "\n",
    "print(\"\\nMale penguins counts:\")\n",
    "print(male_counts)"
   ]
  },
  {
   "cell_type": "code",
   "execution_count": 35,
   "id": "04da4e57",
   "metadata": {},
   "outputs": [
    {
     "name": "stdout",
     "output_type": "stream",
     "text": [
      "Female Penguins:\n",
      "        sex     island  bill_length_mm  bill_depth_mm  flipper_length_mm  \\\n",
      "0    female     Biscoe            34.5           18.1              187.0   \n",
      "1    female     Biscoe            35.0           17.9              190.0   \n",
      "2    female     Biscoe            35.0           17.9              192.0   \n",
      "3    female     Biscoe            35.3           18.9              187.0   \n",
      "4    female     Biscoe            35.5           16.2              195.0   \n",
      "..      ...        ...             ...            ...                ...   \n",
      "160  female  Torgersen            39.6           17.2              196.0   \n",
      "161  female  Torgersen            40.2           17.0              176.0   \n",
      "162  female  Torgersen            40.3           18.0              195.0   \n",
      "163  female  Torgersen            40.9           16.8              191.0   \n",
      "164  female  Torgersen            41.1           17.6              182.0   \n",
      "\n",
      "     body_mass_g  count  \n",
      "0         2900.0      1  \n",
      "1         3450.0      1  \n",
      "2         3725.0      1  \n",
      "3         3800.0      1  \n",
      "4         3350.0      1  \n",
      "..           ...    ...  \n",
      "160       3550.0      1  \n",
      "161       3450.0      1  \n",
      "162       3250.0      1  \n",
      "163       3700.0      1  \n",
      "164       3200.0      1  \n",
      "\n",
      "[165 rows x 7 columns]\n",
      "\n",
      "Male Penguins:\n",
      "      sex     island  bill_length_mm  bill_depth_mm  flipper_length_mm  \\\n",
      "165  male     Biscoe            37.6           19.1              194.0   \n",
      "166  male     Biscoe            37.7           18.7              180.0   \n",
      "167  male     Biscoe            37.8           20.0              190.0   \n",
      "168  male     Biscoe            38.2           18.1              185.0   \n",
      "169  male     Biscoe            38.2           20.0              190.0   \n",
      "..    ...        ...             ...            ...                ...   \n",
      "339  male  Torgersen            42.9           17.6              196.0   \n",
      "340  male  Torgersen            43.1           19.2              197.0   \n",
      "341  male  Torgersen            44.1           18.0              210.0   \n",
      "342  male  Torgersen            45.8           18.9              197.0   \n",
      "343  male  Torgersen            46.0           21.5              194.0   \n",
      "\n",
      "     body_mass_g  count  \n",
      "165       3750.0      1  \n",
      "166       3600.0      1  \n",
      "167       4250.0      1  \n",
      "168       3950.0      1  \n",
      "169       3900.0      1  \n",
      "..           ...    ...  \n",
      "339       4700.0      1  \n",
      "340       3500.0      1  \n",
      "341       4000.0      1  \n",
      "342       4150.0      1  \n",
      "343       4200.0      1  \n",
      "\n",
      "[179 rows x 7 columns]\n"
     ]
    }
   ],
   "source": [
    "# Group the data by 'sex' and other relevant columns and count the occurrences\n",
    "gender_counts = data.groupby(['sex', 'island', 'bill_length_mm', 'bill_depth_mm', 'flipper_length_mm', 'body_mass_g']).size().reset_index(name='count')\n",
    "\n",
    "# Create pivot tables for female and male penguins separately\n",
    "female_pivot = gender_counts[gender_counts['sex'] == 'female']\n",
    "male_pivot = gender_counts[gender_counts['sex'] == 'male']\n",
    "\n",
    "# Display the pivot tables\n",
    "print(\"Female Penguins:\")\n",
    "print(female_pivot)\n",
    "\n",
    "print(\"\\nMale Penguins:\")\n",
    "print(male_pivot)"
   ]
  },
  {
   "cell_type": "code",
   "execution_count": 36,
   "id": "fc07e4b5",
   "metadata": {},
   "outputs": [
    {
     "name": "stdout",
     "output_type": "stream",
     "text": [
      "              precision    recall  f1-score   support\n",
      "\n",
      "      Adelie       1.00      1.00      1.00        32\n",
      "   Chinstrap       1.00      1.00      1.00        13\n",
      "      Gentoo       1.00      1.00      1.00        24\n",
      "\n",
      "    accuracy                           1.00        69\n",
      "   macro avg       1.00      1.00      1.00        69\n",
      "weighted avg       1.00      1.00      1.00        69\n",
      "\n"
     ]
    }
   ],
   "source": [
    "from sklearn.model_selection import train_test_split\n",
    "from sklearn.ensemble import RandomForestClassifier\n",
    "from sklearn.metrics import classification_report\n",
    "\n",
    "# Separate the target variable from the predictor variables\n",
    "X = data.drop(columns=['species'])\n",
    "y = data['species']\n",
    "\n",
    "# Handle categorical variables (one-hot encoding)\n",
    "X = pd.get_dummies(X)\n",
    "\n",
    "# Split the dataset into training and testing sets\n",
    "X_train, X_test, y_train, y_test = train_test_split(X, y, test_size=0.2, random_state=42)\n",
    "\n",
    "# Initialize the Random Forest classifier\n",
    "clf = RandomForestClassifier(random_state=42)\n",
    "\n",
    "# Train the classifier\n",
    "clf.fit(X_train, y_train)\n",
    "\n",
    "# Make predictions\n",
    "y_pred = clf.predict(X_test)\n",
    "\n",
    "# Evaluate the model\n",
    "print(classification_report(y_test, y_pred))"
   ]
  },
  {
   "cell_type": "code",
   "execution_count": 38,
   "id": "8725fdaa",
   "metadata": {},
   "outputs": [
    {
     "name": "stdout",
     "output_type": "stream",
     "text": [
      "              precision    recall  f1-score   support\n",
      "\n",
      "      Adelie       1.00      0.94      0.97        32\n",
      "   Chinstrap       0.87      1.00      0.93        13\n",
      "      Gentoo       1.00      1.00      1.00        24\n",
      "\n",
      "    accuracy                           0.97        69\n",
      "   macro avg       0.96      0.98      0.97        69\n",
      "weighted avg       0.97      0.97      0.97        69\n",
      "\n"
     ]
    }
   ],
   "source": [
    "from sklearn.tree import DecisionTreeClassifier\n",
    "\n",
    "# Initialize the Decision Tree classifier\n",
    "clf = DecisionTreeClassifier(random_state=42)\n",
    "\n",
    "# Train the classifier\n",
    "clf.fit(X_train, y_train)\n",
    "\n",
    "# Make predictions\n",
    "y_pred = clf.predict(X_test)\n",
    "\n",
    "# Evaluate the model\n",
    "print(classification_report(y_test, y_pred))"
   ]
  },
  {
   "cell_type": "code",
   "execution_count": null,
   "id": "97441422",
   "metadata": {},
   "outputs": [],
   "source": []
  }
 ],
 "metadata": {
  "kernelspec": {
   "display_name": "Python 3 (ipykernel)",
   "language": "python",
   "name": "python3"
  },
  "language_info": {
   "codemirror_mode": {
    "name": "ipython",
    "version": 3
   },
   "file_extension": ".py",
   "mimetype": "text/x-python",
   "name": "python",
   "nbconvert_exporter": "python",
   "pygments_lexer": "ipython3",
   "version": "3.11.5"
  }
 },
 "nbformat": 4,
 "nbformat_minor": 5
}
